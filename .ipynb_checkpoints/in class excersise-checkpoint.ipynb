{
 "cells": [
  {
   "cell_type": "code",
   "execution_count": 30,
   "metadata": {},
   "outputs": [],
   "source": [
    "import math\n",
    "import statistics\n",
    "\n",
    "list = [70000,90000,90000,500000,80000,60000]\n",
    "\n",
    "# def standard_div():\n",
    "#     for i in list:\n",
    "#        math.sqrt((i--statistic.mean(list))**2//(list.count(list)))\n",
    "#     return (standard_div)\n",
    "# print (standard_div)"
   ]
  },
  {
   "cell_type": "code",
   "execution_count": 36,
   "metadata": {},
   "outputs": [],
   "source": [
    "def standard_div(arr):\n",
    "    # find the mean\n",
    "    mean = statistics.mean(arr)\n",
    "    sum = 0\n",
    "    # iterate over the array\n",
    "    for i in arr:\n",
    "        # subtract each number - mean\n",
    "        dif = i - mean\n",
    "        # square it\n",
    "        dif_sq = dif**2\n",
    "        # add to the sum\n",
    "        sum += dif_sq\n",
    "    # divide the sum by the number of elements in the array\n",
    "    variance = sum / len(arr)\n",
    "    # take the square root\n",
    "    std = math.sqrt(variance)\n",
    "    # return standard deviation\n",
    "    return std"
   ]
  },
  {
   "cell_type": "code",
   "execution_count": 37,
   "metadata": {},
   "outputs": [
    {
     "name": "stdout",
     "output_type": "stream",
     "text": [
      "157630.0168820083\n"
     ]
    }
   ],
   "source": [
    "print(standard_div(list))"
   ]
  },
  {
   "cell_type": "code",
   "execution_count": null,
   "metadata": {},
   "outputs": [],
   "source": []
  }
 ],
 "metadata": {
  "kernelspec": {
   "display_name": "Python 3",
   "language": "python",
   "name": "python3"
  },
  "language_info": {
   "codemirror_mode": {
    "name": "ipython",
    "version": 3
   },
   "file_extension": ".py",
   "mimetype": "text/x-python",
   "name": "python",
   "nbconvert_exporter": "python",
   "pygments_lexer": "ipython3",
   "version": "3.8.5"
  }
 },
 "nbformat": 4,
 "nbformat_minor": 4
}
