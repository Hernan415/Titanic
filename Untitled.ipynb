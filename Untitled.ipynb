{
 "cells": [
  {
   "cell_type": "code",
   "execution_count": 25,
   "metadata": {},
   "outputs": [],
   "source": [
    "import numpy as np\n",
    "import math as math\n",
    "data = np.array([1, 3, 5, 2, 3, 7, 8, 4, 10, 0, 6, 7, 3, 0, 3, 0, 5, 7, 10, 1, 4, 9, 3])"
   ]
  },
  {
   "cell_type": "code",
   "execution_count": 28,
   "metadata": {},
   "outputs": [],
   "source": [
    "def percentile(data, percent):\n",
    "    #first we want to sort the data in ascending order\n",
    "    data = np.sort(data)\n",
    "    print(data)\n",
    "    #then we will get the index\n",
    "    #TODO: complete the next line and uncomment it.\n",
    "    index = math.ceil((percent/100) * len(data))\n",
    "    \n",
    "    return data[index-1] #adjust by -1 since indices start with 0\n",
    "    "
   ]
  },
  {
   "cell_type": "code",
   "execution_count": 29,
   "metadata": {},
   "outputs": [
    {
     "name": "stdout",
     "output_type": "stream",
     "text": [
      "[ 0  0  0  1  1  2  3  3  3  3  3  4  4  5  5  6  7  7  7  8  9 10 10]\n",
      "2\n",
      "2\n"
     ]
    }
   ],
   "source": [
    "print(percentile(data, 25)) # 25th percentile\n",
    "#check your work by comparing to numpy.percentile()\n",
    "print(int(np.percentile(data, 25)))# 25th percentile"
   ]
  },
  {
   "cell_type": "code",
   "execution_count": null,
   "metadata": {},
   "outputs": [],
   "source": []
  },
  {
   "cell_type": "code",
   "execution_count": null,
   "metadata": {},
   "outputs": [],
   "source": []
  }
 ],
 "metadata": {
  "kernelspec": {
   "display_name": "Python 3",
   "language": "python",
   "name": "python3"
  },
  "language_info": {
   "codemirror_mode": {
    "name": "ipython",
    "version": 3
   },
   "file_extension": ".py",
   "mimetype": "text/x-python",
   "name": "python",
   "nbconvert_exporter": "python",
   "pygments_lexer": "ipython3",
   "version": "3.8.5"
  }
 },
 "nbformat": 4,
 "nbformat_minor": 4
}
